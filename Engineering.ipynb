{
 "cells": [
  {
   "cell_type": "markdown",
   "metadata": {},
   "source": [
    "# Data Engineering "
   ]
  },
  {
   "cell_type": "markdown",
   "metadata": {},
   "source": [
    "__Quantum Data:  Purpose and Action__\n",
    "\n",
    "[Source:](https://www.quantumblack.com/thinking/data-analytics)"
   ]
  },
  {
   "cell_type": "markdown",
   "metadata": {},
   "source": [
    "## Section A: For Purpose"
   ]
  },
  {
   "cell_type": "markdown",
   "metadata": {},
   "source": [
    "1.  Ask the Right Questions\n",
    "```\n",
    "Ask questions based on priority.  Questions must be clear.  \n",
    "For example you can ask \"How can we reduce costs?\" or \"How can we\n",
    "increase revenue?\"\n",
    "What is the purpose of your data analytics process? e.g. How can customers take up more offers?\n",
    "```\n",
    "2.  Think really small . . . and very big\n",
    "```\n",
    "The smallest edge can make the biggest difference.\n",
    "Isolated critical value drivers in your system and scale back or eliminate any inefficiency.  \n",
    "```\n",
    "3.  Embrace taboos\n",
    "```\n",
    "To optimize available information in an intelligent, nuanced way, companies should strive to build a strong data provenance model that identifies the source of every input and scores its reliability, which may improve or degrade over time. Recording the quality of data – and the methodologies used to determine it – is not only a matter of transparency but also a form of risk management. \n",
    "```\n",
    "4.  Connect the dots\n",
    "```ruby\n",
    "Insights often live at the boundaries. Consider other data generated indirectly or that\n",
    "influence current data indrectly e.g. shift patterns can affect the performance of a \n",
    "machinery - it is not enough to gather the data relating to machine performance.\n",
    "```"
   ]
  },
  {
   "cell_type": "markdown",
   "metadata": {},
   "source": [
    "## Section B: From Outputs to Action"
   ]
  },
  {
   "cell_type": "markdown",
   "metadata": {},
   "source": [
    "1.  Run loops, not lines\n",
    "\n",
    "```Javascript\n",
    "Think of a Venn diagram when considering data and outcomes. Is there an intersection \n",
    "between datasets?  Look at those boundaries. Do not consider data side-by-side alone, just the intersection. \n",
    "Follow the OODA loop (Observe, Orient, Decide, Act) - developed by US Air Force \n",
    "Colonel John R. Boyd\n",
    "Data analytics needs a purpose and a plan.\n",
    "Target quick feedback.\n",
    "To arrive at a more robust answer, use a variety of analytics techniques and combine \n",
    "them in different ways.\n",
    "Platform must be ready to respond intelligently as events unfold.\n",
    "```\n",
    "\n",
    "2.  Make your output usable – and beautiful\n",
    "```bash\n",
    "Anayltics should be consumable.\n",
    "a beautiful interface will get you a longer look than a detailed computation with an uneven personality. \n",
    "Present results in elegant and intuitive form(s).\n",
    "People respond better to interfaces that make key findings clear and that draw users in.\n",
    "```\n",
    "\n",
    "3.  Build a multiskilled team\n",
    "```python\n",
    "Build a collaborative team comprising people who collectively have all the necessary skills.\n",
    "```\n",
    "\n",
    "\n",
    "4.  Make adoption your deliverable\n",
    "```scala\n",
    "Real power comes from adoption.  Data analytics is worth nothing until you use it.\n",
    "```"
   ]
  },
  {
   "cell_type": "code",
   "execution_count": null,
   "metadata": {},
   "outputs": [],
   "source": []
  },
  {
   "cell_type": "code",
   "execution_count": null,
   "metadata": {},
   "outputs": [],
   "source": []
  }
 ],
 "metadata": {
  "kernelspec": {
   "display_name": "Python 2",
   "language": "python",
   "name": "python2"
  },
  "language_info": {
   "codemirror_mode": {
    "name": "ipython",
    "version": 2
   },
   "file_extension": ".py",
   "mimetype": "text/x-python",
   "name": "python",
   "nbconvert_exporter": "python",
   "pygments_lexer": "ipython2",
   "version": "2.7.15"
  }
 },
 "nbformat": 4,
 "nbformat_minor": 2
}
